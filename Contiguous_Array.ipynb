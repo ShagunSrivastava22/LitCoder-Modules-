{
  "nbformat": 4,
  "nbformat_minor": 0,
  "metadata": {
    "colab": {
      "provenance": []
    },
    "kernelspec": {
      "name": "python3",
      "display_name": "Python 3"
    },
    "language_info": {
      "name": "python"
    }
  },
  "cells": [
    {
      "cell_type": "code",
      "execution_count": 3,
      "metadata": {
        "colab": {
          "base_uri": "https://localhost:8080/"
        },
        "id": "RpHSm0m6fS4n",
        "outputId": "c47f0e06-5956-4581-d75b-6ecc66ebab7b"
      },
      "outputs": [
        {
          "output_type": "stream",
          "name": "stdout",
          "text": [
            "2\n"
          ]
        }
      ],
      "source": [
        "def findMaxLength(nums):\n",
        "    # Create a dictionary to store the running sum and its corresponding index\n",
        "    sum_index_map = {0: -1}\n",
        "    max_length = 0\n",
        "    running_sum = 0\n",
        "\n",
        "    # Iterate through the binary array\n",
        "    for i in range(len(nums)):\n",
        "        # Update the running sum based on the current element (0 or 1)\n",
        "        running_sum += 1 if nums[i] == 1 else -1\n",
        "\n",
        "        # If the running sum is already in the dictionary, update the maximum length\n",
        "        if running_sum in sum_index_map:\n",
        "            max_length = max(max_length, i - sum_index_map[running_sum])\n",
        "        else:\n",
        "            # If the running sum is not in the dictionary, add it with the current index\n",
        "            sum_index_map[running_sum] = i\n",
        "\n",
        "    return max_length\n",
        "\n",
        "# Example usage\n",
        "nums_example = [0, 1]\n",
        "output = findMaxLength(nums_example)\n",
        "\n",
        "# Print the result in the specified format\n",
        "print(output)"
      ]
    }
  ]
}