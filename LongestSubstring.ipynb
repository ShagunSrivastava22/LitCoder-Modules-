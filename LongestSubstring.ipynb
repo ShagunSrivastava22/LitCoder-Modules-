{
  "nbformat": 4,
  "nbformat_minor": 0,
  "metadata": {
    "colab": {
      "provenance": []
    },
    "kernelspec": {
      "name": "python3",
      "display_name": "Python 3"
    },
    "language_info": {
      "name": "python"
    }
  },
  "cells": [
    {
      "cell_type": "code",
      "execution_count": 6,
      "metadata": {
        "colab": {
          "base_uri": "https://localhost:8080/"
        },
        "id": "RpHSm0m6fS4n",
        "outputId": "1103f13c-49bc-4c68-9e1e-dfc7ed3fd358"
      },
      "outputs": [
        {
          "output_type": "stream",
          "name": "stdout",
          "text": [
            "6\n"
          ]
        }
      ],
      "source": [
        "def longest_substring_length(s):\n",
        "    # Initialize variables\n",
        "    char_index_map = {}  # Map to store the last index of each character\n",
        "    start_index = 0  # Start index of the current substring\n",
        "    max_length = 0  # Maximum length of substring without repeating characters\n",
        "\n",
        "    for i, char in enumerate(s):\n",
        "        # If the character is repeated and its last occurrence is after the start index\n",
        "        if char in char_index_map and char_index_map[char] >= start_index:\n",
        "            start_index = char_index_map[char] + 1  # Move the start index to the next position\n",
        "\n",
        "        # Update the last index of the character\n",
        "        char_index_map[char] = i\n",
        "\n",
        "        # Update the maximum length if the current substring is longer\n",
        "        max_length = max(max_length, i - start_index + 1)\n",
        "\n",
        "    return max_length\n",
        "\n",
        "# Example usage for Scenario: String with No Repeating Characters\n",
        "input_example_1 = \"abcdef\"\n",
        "output_example_1 = longest_substring_length(input_example_1)\n",
        "print(output_example_1)  # Output: 6"
      ]
    }
  ]
}