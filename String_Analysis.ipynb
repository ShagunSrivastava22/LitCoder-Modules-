{
  "nbformat": 4,
  "nbformat_minor": 0,
  "metadata": {
    "colab": {
      "provenance": []
    },
    "kernelspec": {
      "name": "python3",
      "display_name": "Python 3"
    },
    "language_info": {
      "name": "python"
    }
  },
  "cells": [
    {
      "cell_type": "code",
      "execution_count": 1,
      "metadata": {
        "colab": {
          "base_uri": "https://localhost:8080/"
        },
        "id": "RpHSm0m6fS4n",
        "outputId": "7dfbb316-80fa-4c58-b580-93f0c92bd807"
      },
      "outputs": [
        {
          "output_type": "stream",
          "name": "stdout",
          "text": [
            "5.263%\n",
            "78.947%\n",
            "5.263%\n",
            "10.526%\n"
          ]
        }
      ],
      "source": [
        "def analyze_email_composition(email):\n",
        "    # Initialize counters for each category\n",
        "    uppercase_count = 0\n",
        "    lowercase_count = 0\n",
        "    digit_count = 0\n",
        "    other_count = 0\n",
        "\n",
        "    # Iterate through each character in the email\n",
        "    for char in email:\n",
        "        if char.isupper():\n",
        "            uppercase_count += 1\n",
        "        elif char.islower():\n",
        "            lowercase_count += 1\n",
        "        elif char.isdigit():\n",
        "            digit_count += 1\n",
        "        else:\n",
        "            other_count += 1\n",
        "\n",
        "    # Calculate the total length of the email\n",
        "    total_length = len(email)\n",
        "\n",
        "    # Calculate the percentage for each category\n",
        "    uppercase_percentage = (uppercase_count / total_length) * 100\n",
        "    lowercase_percentage = (lowercase_count / total_length) * 100\n",
        "    digit_percentage = (digit_count / total_length) * 100\n",
        "    other_percentage = (other_count / total_length) * 100\n",
        "\n",
        "    # Format the output as specified\n",
        "    output = \"{:.3f}%\\n{:.3f}%\\n{:.3f}%\\n{:.3f}%\".format(\n",
        "        uppercase_percentage, lowercase_percentage, digit_percentage, other_percentage\n",
        "    )\n",
        "\n",
        "    # Print the results\n",
        "    print(output)\n",
        "\n",
        "# Example usage\n",
        "email_example = \"Support1@litwork.in\"\n",
        "analyze_email_composition(email_example)"
      ]
    }
  ]
}