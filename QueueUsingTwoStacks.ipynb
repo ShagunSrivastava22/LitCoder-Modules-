{
  "nbformat": 4,
  "nbformat_minor": 0,
  "metadata": {
    "colab": {
      "provenance": []
    },
    "kernelspec": {
      "name": "python3",
      "display_name": "Python 3"
    },
    "language_info": {
      "name": "python"
    }
  },
  "cells": [
    {
      "cell_type": "code",
      "execution_count": 5,
      "metadata": {
        "colab": {
          "base_uri": "https://localhost:8080/"
        },
        "id": "RpHSm0m6fS4n",
        "outputId": "724ab020-e26e-4a63-ab57-28773874b0e5"
      },
      "outputs": [
        {
          "output_type": "stream",
          "name": "stdout",
          "text": [
            "14\n"
          ]
        }
      ],
      "source": [
        "class CustomQueue:\n",
        "    def __init__(self):\n",
        "        # Two stacks to simulate the queue\n",
        "        self.stack_enqueue = []  # Used for enqueue operation\n",
        "        self.stack_dequeue = []  # Used for dequeue operation\n",
        "\n",
        "    def enqueue(self, element):\n",
        "        # Push the element onto the enqueue stack\n",
        "        self.stack_enqueue.append(element)\n",
        "\n",
        "    def dequeue(self):\n",
        "        # If the dequeue stack is empty, transfer elements from enqueue stack\n",
        "        if not self.stack_dequeue:\n",
        "            while self.stack_enqueue:\n",
        "                self.stack_dequeue.append(self.stack_enqueue.pop())\n",
        "\n",
        "        # If the dequeue stack is still empty, the queue is empty\n",
        "        if not self.stack_dequeue:\n",
        "            return None\n",
        "\n",
        "        # Pop the element from the dequeue stack (front of the queue)\n",
        "        return self.stack_dequeue.pop()\n",
        "\n",
        "    def print_front(self):\n",
        "        # If the dequeue stack is empty, transfer elements from enqueue stack\n",
        "        if not self.stack_dequeue:\n",
        "            while self.stack_enqueue:\n",
        "                self.stack_dequeue.append(self.stack_enqueue.pop())\n",
        "\n",
        "        # If the dequeue stack is still empty, the queue is empty\n",
        "        if not self.stack_dequeue:\n",
        "            return None\n",
        "\n",
        "        # Peek at the element at the front of the queue\n",
        "        return self.stack_dequeue[-1]\n",
        "\n",
        "# Function to process queries and return the results\n",
        "def process_queries(queries):\n",
        "    custom_queue = CustomQueue()\n",
        "    results = []\n",
        "\n",
        "    for query in queries:\n",
        "        query_type, *args = query.split()\n",
        "\n",
        "        if query_type == '1':\n",
        "            # Enqueue operation\n",
        "            element = int(args[0])\n",
        "            custom_queue.enqueue(element)\n",
        "        elif query_type == '2':\n",
        "            # Dequeue operation\n",
        "            custom_queue.dequeue()\n",
        "        elif query_type == '3':\n",
        "            # Print Front operation\n",
        "            front_element = custom_queue.print_front()\n",
        "            if front_element is not None:\n",
        "                results.append(front_element)\n",
        "\n",
        "    return results\n",
        "\n",
        "# Example usage\n",
        "queries_example = [\"1 42\", \"2\", \"1 14\", \"3\"]\n",
        "output = process_queries(queries_example)\n",
        "\n",
        "# Print the result in the specified format\n",
        "for result in output:\n",
        "    print(result)\n",
        "\n",
        ""
      ]
    }
  ]
}