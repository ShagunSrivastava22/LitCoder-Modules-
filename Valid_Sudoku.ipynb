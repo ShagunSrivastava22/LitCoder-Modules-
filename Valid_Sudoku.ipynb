{
  "nbformat": 4,
  "nbformat_minor": 0,
  "metadata": {
    "colab": {
      "provenance": []
    },
    "kernelspec": {
      "name": "python3",
      "display_name": "Python 3"
    },
    "language_info": {
      "name": "python"
    }
  },
  "cells": [
    {
      "cell_type": "code",
      "execution_count": 4,
      "metadata": {
        "colab": {
          "base_uri": "https://localhost:8080/"
        },
        "id": "RpHSm0m6fS4n",
        "outputId": "4012f3d8-5ed2-4f6c-9cd5-d1134e427140"
      },
      "outputs": [
        {
          "output_type": "stream",
          "name": "stdout",
          "text": [
            "YES\n"
          ]
        }
      ],
      "source": [
        "def isValidSudoku(board):\n",
        "    # Check Rows\n",
        "    for row in board:\n",
        "        if not is_valid_set(row):\n",
        "            return \"NO\"\n",
        "\n",
        "    # Check Columns\n",
        "    for col in zip(*board):\n",
        "        if not is_valid_set(col):\n",
        "            return \"NO\"\n",
        "\n",
        "    # Check 3x3 Sub-boxes\n",
        "    for i in range(0, 9, 3):\n",
        "        for j in range(0, 9, 3):\n",
        "            sub_box = [board[x][y] for x in range(i, i + 3) for y in range(j, j + 3)]\n",
        "            if not is_valid_set(sub_box):\n",
        "                return \"NO\"\n",
        "\n",
        "    return \"YES\"\n",
        "\n",
        "\n",
        "def is_valid_set(nums):\n",
        "    seen = set()\n",
        "    for num in nums:\n",
        "        if num != '.':\n",
        "            if num in seen:\n",
        "                return False\n",
        "            seen.add(num)\n",
        "    return True\n",
        "\n",
        "# Example usage\n",
        "board_example = [\n",
        "    [5, 3, '.', '.', 7, '.', '.', '.', '.'],\n",
        "    [6, '.', '.', 1, 9, 5, '.', '.', '.'],\n",
        "    ['.', 9, 8, '.', '.', '.', '.', 6, '.'],\n",
        "    [8, '.', '.', '.', 6, '.', '.', '.', 3],\n",
        "    [4, '.', '.', 8, '.', 3, '.', '.', 1],\n",
        "    [7, '.', '.', '.', 2, '.', '.', '.', 6],\n",
        "    ['.', 6, '.', '.', '.', '.', 2, 8, '.'],\n",
        "    ['.', '.', '.', 4, 1, 9, '.', '.', 5],\n",
        "    ['.', '.', '.', '.', 8, '.', '.', 7, 9]\n",
        "]\n",
        "\n",
        "output = isValidSudoku(board_example)\n",
        "print(output)\n",
        ""
      ]
    }
  ]
}